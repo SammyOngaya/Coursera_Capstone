{
 "cells": [
  {
   "cell_type": "markdown",
   "metadata": {},
   "source": [
    "# Segmenting And Clustering Socio-Economic Activities in Kenyan Counties"
   ]
  },
  {
   "cell_type": "markdown",
   "metadata": {},
   "source": [
    "### Introduction"
   ]
  },
  {
   "cell_type": "markdown",
   "metadata": {},
   "source": [
    "In 2010 the republic of Kenya introduced the units of devolved government called County governments.\n",
    "The counties of Kenya are geographical units lead by elected Governor and forms the local government of the \n",
    "particular county. Each county is composed of at least one town with different economical and social \n",
    "activities. \n",
    "\n",
    "Each County government is obligated to generate its own revenue and supplement the income disbursed from the \n",
    "national govenment. Therefore the each Counties stakeholders and administrator sought to analyse the most\n",
    "viable economical activities that will increase revenue and improve the livelihood of its people. ALso for any \n",
    "organization and stakeholders wishing to expand there business operation to different Counties will need to understand\n",
    "the best County to invest in.\n",
    "\n",
    "The main consumer of this project are the County government's and investors. This project tends to analyse\n",
    "and segment the economical activities within each County and cluster the most common economical activities in each county.\n",
    "With this analysis the stakeholders will be well informed on the most appropriate economical activities to \n",
    "invest in each county and make informed descision that will yield high ROI.\n"
   ]
  },
  {
   "cell_type": "markdown",
   "metadata": {},
   "source": [
    "### Data"
   ]
  },
  {
   "cell_type": "markdown",
   "metadata": {},
   "source": [
    "This project is a data driven project and it will utilize data for 47 Counties in Kenya. The data will be \n",
    "extracted from the wikipedia website through webscrapping using Python based libraries. The data has \n",
    "County name, Area in KM squared and Population Census as of 2009 among other details. We will use \n",
    "the geopy library to get the coordinates of each county. We will create a map of Kenya and plot the coodinates \n",
    "of each county using the folium library.\n",
    "\n",
    "After successfully extracting the relevant data we will use the Foursquare API to extract relevant information such as \n",
    "facilities withing a radius of 1km for the 10 Counties and get the venue categories for each facility.\n",
    "I will explore the neighborhood of each county by retrieving the near by venues. I will analyze each neighborhood\n",
    "and indentify which are the most dominant facilities in each area by displaying the top 5 most common venues.\n",
    "\n",
    "I will then cluster the neighborhoods using the K-means clustring algorithm. K-means is unsupervised \n",
    "machine learning algorithm the is used to segment data to identify pattern. We will create a map using \n",
    "folium library to display the clusters. I will finally analyze each cluster based on results obtained from \n",
    "the machine learning algorithm. This will inform us on the business activities that can be viable at a given \n",
    "region in each county. The business investors can use this research to invest in activities that will\n",
    "have high return on investment (ROI) and also helping the county governmnet in making strategic decisions\n",
    "on how to best improve and support business investor in there respective regions by providing necesary services"
   ]
  }
 ],
 "metadata": {
  "kernelspec": {
   "display_name": "Python 3",
   "language": "python",
   "name": "python3"
  },
  "language_info": {
   "codemirror_mode": {
    "name": "ipython",
    "version": 3
   },
   "file_extension": ".py",
   "mimetype": "text/x-python",
   "name": "python",
   "nbconvert_exporter": "python",
   "pygments_lexer": "ipython3",
   "version": "3.6.5"
  }
 },
 "nbformat": 4,
 "nbformat_minor": 2
}
