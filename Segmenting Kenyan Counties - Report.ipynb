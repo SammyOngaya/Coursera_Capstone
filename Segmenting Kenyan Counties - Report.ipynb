{
 "cells": [
  {
   "cell_type": "markdown",
   "metadata": {},
   "source": [
    "# Segmenting And Clustering Socio-Economic Activities in Kenyan Counties\n",
    "\n",
    "## <center>Sammy Ongaya</center>\n",
    "## <center>April 07, 2019</center>\n"
   ]
  },
  {
   "cell_type": "markdown",
   "metadata": {},
   "source": [
    "### 1. Introduction\n"
   ]
  },
  {
   "cell_type": "markdown",
   "metadata": {},
   "source": [
    "### 1.1 Background\n",
    "\n",
    "In 2010 the republic of Kenya introduced the units of devolved government called County governments. The counties of Kenya are geographical units lead by elected Governor and forms the local government of the particular county. Each county is composed of at least one town with different economical and social activities."
   ]
  },
  {
   "cell_type": "markdown",
   "metadata": {},
   "source": [
    "### 1.2 Problem\n",
    "Each County government is obligated to generate its own revenue and supplement the income disbursed from the national govenment. Therefore the each Counties stakeholders and administrator sought to analyse the most viable economical activities that will increase revenue and improve the livelihood of its people. ALso for any organization and stakeholders wishing to expand there business operation to different Counties will need to understand the best County to invest in.\n",
    "\n",
    "The main consumer of this project are the County government's officials and business investors. This project analyses and segments the economical activities within each County and cluster the most common economical activities in each county. With this analysis the stakeholders are well informed on the most appropriate economical activities to invest in each county and make informed descision that will yield high ROI."
   ]
  },
  {
   "cell_type": "markdown",
   "metadata": {},
   "source": [
    "### 2. Data"
   ]
  },
  {
   "cell_type": "markdown",
   "metadata": {},
   "source": [
    "This project is a data driven project and it utilizes data from 47 Counties in Kenya. The data is extracted from the <a href=\"https://en.wikipedia.org/wiki/Counties_of_Kenya\">wikipedia</a> website through webscrapping using Python based library. The data has County name, Area in KM squared and Population Census as of 2009 among other details. We use the geopy library to get the coordinates of each county. We then create a map of Kenya and plot the coodinates of each county using the folium library.\n",
    "\n",
    "After successfully extracting the relevant data we use the Foursquare API to extract relevant information such as facilities within a radius of 25km for all Counties and get the venue categories for each facility. We then explore the facilities for each county by retrieving the near by venues. Wwe analyze each county and indentify which are the most dominant facilities in each area by displaying the top 5 most common venues.\n",
    "\n",
    "We cluster the venues for all counties using the K-means clustring algorithm. K-means is unsupervised machine learning algorithm the is used to segment data to identify pattern. We create a map using folium library to display the clusters. We finally analyze each cluster based on results obtained from the machine learning algorithm. This informs us on the business activities that can be viable at a given region in each county. The business investors can use this research to invest in activities that will have high return on investment (ROI) and also helping the county governmnet in making strategic decisions on how to best improve and support business investor in there respective regions by providing necesary services"
   ]
  },
  {
   "cell_type": "markdown",
   "metadata": {},
   "source": [
    "### 3.Methodology"
   ]
  },
  {
   "cell_type": "markdown",
   "metadata": {},
   "source": [
    "### 3.1 Exploratory Data Analysis\n",
    "\n",
    "We have a total of 47 Counties in Kenya geographically demacated based on population and sizes. The County with highest population is Nairobi while the least populated County is Isiolo. ![Population Density](counties_by_population.png). The County with largest size is Turkana while Mombasa is the County with smallest size ![Area Size](counties_by_size.png). Below is the distribution of Counties on a Kenyan map. ![Kenyan Counties](kenyan_counties_map.png).Using the Foursquare API we retrieve a list of upto 100 venues for each county within a radius of 25KM. We get a total of 703 venues returned by the Foursquare API. Elgeyo-Marakwet and Nairobi Counties 100 have the highest venues count of 100 each while Kilifi and Kwale are the least with only 1 venue from the data retrieved from Foursquare API![Counties and Number of Venues](counties_and_venues.png). ![Venue Categories](venue_categories_bar_chart.png). We have a total of 129 Venue categories retruned by Foursquare API. Top venues categories are Hotel with 82 venues and Shopping Mall with 38 venues. The least categories are Dessert Shop and Harbor / Marina each with 1 venue ![Venue Categories](venue_categories.png). \n",
    "\n",
    "We also computed the frequency of occurence of each venue in each County as seen from <Notebook URL> While limiting our count to 5 venues per County. Aditionally we analysed the top 10 most common venues in each County ![Common Venues](common_venues.png). \n",
    "    \n",
    "    \n",
    "\n",
    "### 3.2 Machine Learning\n",
    "This problem is a form of unsupervised leaning since we don't have labaled data which is the case of supervised learning. We used the K-Means algorithm. K-means is unsupervised learning algorithm that falls into the Clustering classes of unsupervised algorithms. In clustering problem the algorithms tends to group datapoints into different clusters with each cluster having similar features. We use the K-Means clustering algorithm in this project because our data is not labeled and our objective is to segment the venues into 5 cluster each having similar characteristics.\n"
   ]
  },
  {
   "cell_type": "markdown",
   "metadata": {},
   "source": [
    "### 4. Results"
   ]
  },
  {
   "cell_type": "markdown",
   "metadata": {},
   "source": [
    "From this project we see that most venues are for hotels and shopping malls while the least venues are the Desert shop and \n",
    "Marina. This is because the fast consumer moving goods are essential to most people and are found anywhere unline rare venues \n",
    "such as Desert shops and Marina's. Few Counties have Habours and Marina's because they are land locked and most don't have water bodies such as lakes.\n",
    "\n",
    "![Venue Categories](venues_and _there_categories_bar_chart.png)\n",
    "\n",
    "We cluster our data into 5 clusters and observe that most venues fall into the first cluster forming the largest cluster. This is because of the \n",
    "similarities of the venues providing similar services such as Food shops, hotels, resorts, restaurants and coffee shops which are grouped into one cluster.\n",
    "\n",
    "![Venue Clusters](venue_clusters.png)\n",
    "\n",
    "The size of the County does not influence the number of venues in a County. This can be seen in County such as Wajir which is the thrid largest County in terms of\n",
    "geographical boundaries with a size of 55840.6KM squared but has it has very few veues (5 venues). While Nairobi County with a size of 694.9 KM squared but has a total of 100\n",
    "venues.\n",
    "\n",
    "Population seems to influence the presence of venues in our analysis. We can see that for County such as Nairobi with the highset population of \n",
    "3138369 Milion people has the highest number of venues 100 venues. While Counties such as Lamu with a population size of 191539 persons has a total of 5 venues.\n"
   ]
  },
  {
   "cell_type": "markdown",
   "metadata": {},
   "source": [
    "### 5. Discusion"
   ]
  },
  {
   "cell_type": "markdown",
   "metadata": {},
   "source": [
    "The results from our analyses shows that most of the venues are food related venues such as hotels, restaurants, food courts and related venues. For counties with natural scenaries such lake, mountain, national park, game reserves and historical sites tourist activities can suffice well. This can be seen in Counties such as Bungoma, Kilifi, Lamu, Baringo and Mombasa among others. The business activities that are in demand for Cities and major towns such as Nairobi, Kisumu, Mombasa Nakuru and Uasin Gishu are hotels, restaurants, resorts, shooping malls. This is due to high population.\n",
    "\n",
    "From the above analysis we can see that most venues in Kenya are food and restaurant facilities which lies in Cluster 1 . From cluster 2 we find Coffee and Cocktail Shops which are more dominant in Kilifi County. \n",
    "\n",
    "Our data is limited to the data retrieved from the Foursquare API. This data is not adequate for analysis to Counties whose venues are not adequately collected by the Foursquare provider, however, it provides a general overview of the economical activities position of Kenyan Counties."
   ]
  },
  {
   "cell_type": "markdown",
   "metadata": {},
   "source": [
    "### 6. Conclusion"
   ]
  },
  {
   "cell_type": "markdown",
   "metadata": {},
   "source": [
    "For Counties that have major towns in Kenya such as Nairobi, Mombasa, Kisumu and Nakuru the most dominant business activity is related to consumer food facilities such as hotels, restaurants, cafe's e.t.c. For business investors the most promising business is the hotel and restaurants business. For administrative purpose the Counties and relevant administrative authorities should invest and improve the agricultural production industry, build good roads to transport farm inputs to the urban areas. For Counties with Tourist attraction sites such as Mountains, wildlife, historical sites, lakes and beach they should invest in tourist attraction economical activities as well as food courts. However, our resaarch didn't cover 11 Counties including Turkana, Mandera among other 11 due to unavailability of data. For the full source code and analysis of this project visit my github account <a href=\"\">here</a>."
   ]
  }
 ],
 "metadata": {
  "kernelspec": {
   "display_name": "Python 3",
   "language": "python",
   "name": "python3"
  },
  "language_info": {
   "codemirror_mode": {
    "name": "ipython",
    "version": 3
   },
   "file_extension": ".py",
   "mimetype": "text/x-python",
   "name": "python",
   "nbconvert_exporter": "python",
   "pygments_lexer": "ipython3",
   "version": "3.6.5"
  }
 },
 "nbformat": 4,
 "nbformat_minor": 2
}
