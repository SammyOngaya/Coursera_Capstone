{
 "cells": [
  {
   "cell_type": "markdown",
   "metadata": {},
   "source": [
    "# Segmenting And Clustering Socio-Economic Activities in Kenyan Counties\n",
    "\n",
    "## Sammy Ongaya\n",
    "### April 07, 2019"
   ]
  },
  {
   "cell_type": "markdown",
   "metadata": {},
   "source": [
    "### 1. Introduction\n"
   ]
  },
  {
   "cell_type": "markdown",
   "metadata": {},
   "source": [
    "### 1.1 Background\n",
    "\n",
    "In 2010 the republic of Kenya introduced the units of devolved government called County governments. The counties of Kenya are geographical units lead by elected Governor and forms the local government of the particular county. Each county is composed of at least one town with different economical and social activities."
   ]
  },
  {
   "cell_type": "markdown",
   "metadata": {},
   "source": [
    "### 1.2 Problem\n",
    "Each County government is obligated to generate its own revenue and supplement the income disbursed from the national govenment. Therefore the each Counties stakeholders and administrator sought to analyse the most viable economical activities that will increase revenue and improve the livelihood of its people. ALso for any organization and stakeholders wishing to expand there business operation to different Counties will need to understand the best County to invest in.\n",
    "\n",
    "The main consumer of this project are the County government's officials and business investors. This project analyses and segments the economical activities within each County and cluster the most common economical activities in each county. With this analysis the stakeholders are well informed on the most appropriate economical activities to invest in each county and make informed descision that will yield high ROI."
   ]
  },
  {
   "cell_type": "markdown",
   "metadata": {},
   "source": [
    "### 2. Data"
   ]
  },
  {
   "cell_type": "markdown",
   "metadata": {},
   "source": [
    "This project is a data driven project and it utilizes data from 47 Counties in Kenya. The data is extracted from the <a href=\"https://en.wikipedia.org/wiki/Counties_of_Kenya\">wikipedia</a> website through webscrapping using Python based library. The data has County name, Area in KM squared and Population Census as of 2009 among other details. We use the geopy library to get the coordinates of each county. We then create a map of Kenya and plot the coodinates of each county using the folium library.\n",
    "\n",
    "After successfully extracting the relevant data we use the Foursquare API to extract relevant information such as facilities within a radius of 25km for all Counties and get the venue categories for each facility. We then explore the facilities for each county by retrieving the near by venues. Wwe analyze each county and indentify which are the most dominant facilities in each area by displaying the top 5 most common venues.\n",
    "\n",
    "We cluster the venues for all counties using the K-means clustring algorithm. K-means is unsupervised machine learning algorithm the is used to segment data to identify pattern. We create a map using folium library to display the clusters. We finally analyze each cluster based on results obtained from the machine learning algorithm. This informs us on the business activities that can be viable at a given region in each county. The business investors can use this research to invest in activities that will have high return on investment (ROI) and also helping the county governmnet in making strategic decisions on how to best improve and support business investor in there respective regions by providing necesary services"
   ]
  },
  {
   "cell_type": "markdown",
   "metadata": {},
   "source": [
    "### 3.Methodology"
   ]
  },
  {
   "cell_type": "markdown",
   "metadata": {},
   "source": [
    "### 3.1 Exploratory Data Analysis\n",
    "\n",
    "We have a total of 47 Counties in Kenya geographically demacated based on population and sizes. The County with highest population is Nairobi while the least populated County is Isiolo. <Population Density Image>Image</>. The County with largest size is Turkana while Mombasa is the County with smallest size <Aarea size Image>Image</>. Below is the distribution of Counties on a Kenyan map <Kenyan map Image>Image</>. Using the Foursquare API we retrieve a list of upto 100 venues for each county within a radius of 25KM. We get a total of 703 venues returned by the Foursquare API. Elgeyo-Marakwet and Nairobi Counties    100 have the highest venues count of 100 each while Kilifi and Kwale are the least with only 1 venue from the data retrieved from Foursquare API<Venue API Image>Image</>. We have a total of 129 Venue categories retruned by Foursquare API. Top venues categories are Hotel with 82 venues and Shopping Mall with 38 venues. The least categories are Dessert Shop and Harbor / Marina each with 1 venue <Venue categories Image>Image</>. \n",
    "\n",
    "We also computed the frequency of occurence of each venue in each County as seen from <Notebook URL>\n",
    "\n"
   ]
  }
 ],
 "metadata": {
  "kernelspec": {
   "display_name": "Python 3",
   "language": "python",
   "name": "python3"
  },
  "language_info": {
   "codemirror_mode": {
    "name": "ipython",
    "version": 3
   },
   "file_extension": ".py",
   "mimetype": "text/x-python",
   "name": "python",
   "nbconvert_exporter": "python",
   "pygments_lexer": "ipython3",
   "version": "3.6.5"
  }
 },
 "nbformat": 4,
 "nbformat_minor": 2
}
